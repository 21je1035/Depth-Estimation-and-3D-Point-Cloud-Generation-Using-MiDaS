{
 "cells": [
  {
   "cell_type": "markdown",
   "metadata": {},
   "source": [
    "We are using jupyter notebook for post processing of point cloud"
   ]
  },
  {
   "cell_type": "code",
   "execution_count": null,
   "metadata": {},
   "outputs": [],
   "source": [
    "!pip install open3d"
   ]
  },
  {
   "cell_type": "code",
   "execution_count": null,
   "metadata": {},
   "outputs": [],
   "source": [
    "#import necessary libraries\n",
    "import open3d as o3d\n",
    "import numpy as np\n",
    "import os\n",
    "import sys\n",
    "sys.path.append('..')"
   ]
  },
  {
   "cell_type": "code",
   "execution_count": null,
   "metadata": {},
   "outputs": [],
   "source": [
    "#load the file from directory\n",
    "file_path = 'sample.ply'\n",
    "pcd = o3d.io.read_point_cloud(file_path)\n",
    "print(pcd)"
   ]
  },
  {
   "cell_type": "code",
   "execution_count": null,
   "metadata": {},
   "outputs": [],
   "source": [
    "print(np.asarray(pcd.points))"
   ]
  },
  {
   "cell_type": "markdown",
   "metadata": {},
   "source": [
    "# open3d.visualization.draw_geometries\n",
    "open3d.visualization.draw_geometries(*args, **kwargs)\n",
    "Overloaded function.\n",
    "draw_geometries(geometry_list, window_name=’Open3D’, width=1920, height=1080, left=50, top=50, point_show_normal=False, mesh_show_wireframe=False, mesh_show_back_face=False, lookat, up, front, zoom)\n",
    "Function to draw a list of geometry.Geometry objects\n",
    "\n",
    "PARAMETERS:\n",
    "geometry_list (List[open3d.geometry.Geometry]) – List of geometries to be visualized.\n",
    "\n",
    "window_name (str, optional, default='Open3D') – The displayed title of the visualization window.\n",
    "\n",
    "width (int, optional, default=1920) – The width of the visualization window.\n",
    "\n",
    "height (int, optional, default=1080) – The height of the visualization window.\n",
    "\n",
    "left (int, optional, default=50) – The left margin of the visualization window.\n",
    "\n",
    "top (int, optional, default=50) – The top margin of the visualization window.\n",
    "\n",
    "point_show_normal (bool, optional, default=False) – Visualize point normals if set to true.\n",
    "\n",
    "mesh_show_wireframe (bool, optional, default=False) – Visualize mesh wireframe if set to true.\n",
    "\n",
    "mesh_show_back_face (bool, optional, default=False) – Visualize also the back face of the mesh triangles.\n",
    "\n",
    "lookat (numpy.ndarray[numpy.float64[3, 1]]) – The lookat vector of the camera.\n",
    "\n",
    "up (numpy.ndarray[numpy.float64[3, 1]]) – The up vector of the camera.\n",
    "\n",
    "front (numpy.ndarray[numpy.float64[3, 1]]) – The front vector of the camera.\n",
    "\n",
    "zoom (float) – The zoom of the camera.\n",
    "\n",
    "RETURNS:\n",
    "None"
   ]
  },
  {
   "cell_type": "code",
   "execution_count": null,
   "metadata": {},
   "outputs": [],
   "source": [
    "o3d.visualization.draw_geometries([pcd],zoom=0.3412, front = [0.4257, -0.2125, -0.8795],\n",
    "                                 lookat=[2.6172, 2.0475, 1.532],\n",
    "                                 up=[-0.0694, -0.9768, 0.2024])\n",
    "#This will open a window to view in 3d"
   ]
  },
  {
   "cell_type": "markdown",
   "metadata": {},
   "source": [
    "If you want to further procedd with your point cloud\n",
    "You can use \n",
    "# Voxel Downsampling\n",
    "open3d.geometry.voxel_down_sample(input, voxel_size)  \n",
    "Function to downsample input pointcloud into output pointcloud with a voxel\n",
    "\n",
    "Parameters\n",
    "input (open3d.geometry.PointCloud) – The input point cloud.\n",
    "\n",
    "voxel_size (float) – Voxel size to downsample into.\n",
    "\n",
    "Returns\n",
    "open3d.geometry.PointCloud"
   ]
  },
  {
   "cell_type": "code",
   "execution_count": null,
   "metadata": {},
   "outputs": [],
   "source": [
    "downpcd=pcd.voxel_down_sample(voxel_size=0.05)\n",
    "o3d.visualization.draw_geometries([downpcd],zoom=0.3412, front = [0.4257, -0.2125, -0.8795],\n",
    "                                 lookat=[2.6172, 2.0475, 1.532],\n",
    "                                 up=[-0.0694, -0.9768, 0.2024])"
   ]
  },
  {
   "cell_type": "markdown",
   "metadata": {},
   "source": [
    "# Vertex Normal Estimation\n",
    "estimate_normals computes the normal for every point. The function finds adjacent points and calculates the principal axis of the adjacent points using covariance analysis.\n",
    "\n",
    "The function takes an instance of KDTreeSearchParamHybrid class as an argument. The two key arguments radius = 0.1 and max_nn = 30 specifies search radius and maximum nearest neighbor. It has 10cm of search radius, and only considers up to 30 neighbors to save computation time\n",
    "\n",
    "Function to compute the normals of a point cloud. Normals are oriented with respect to the input point cloud if normals exist\n",
    "\n",
    "Parameters\n",
    "cloud (open3d.geometry.PointCloud) – The input point cloud. It also stores the output normals.\n",
    "\n",
    "search_param (open3d.geometry.KDTreeSearchParam, optional, default=geometry::KDTreeSearchParamKNN with knn = 30) – The KDTree search parameters for neighborhood search.\n"
   ]
  },
  {
   "cell_type": "code",
   "execution_count": null,
   "metadata": {},
   "outputs": [],
   "source": [
    "downpcd.estimate_normals(search_param=o3d.geometry.KDTreeSearchParamHybrid(radius=0.1, max_nn=30))\n",
    "o3d.visualization.draw_geometries([downpcd],zoom=0.3412, front = [0.4257, -0.2125, -0.8795],\n",
    "                                 lookat=[2.6172, 2.0475, 1.532],\n",
    "                                 up=[-0.0694, -0.9768, 0.2024],\n",
    "                                 point_show_normal=True)"
   ]
  },
  {
   "cell_type": "markdown",
   "metadata": {},
   "source": [
    "Further work can be done with point cloud"
   ]
  }
 ],
 "metadata": {
  "kernelspec": {
   "display_name": "Python 3",
   "language": "python",
   "name": "python3"
  },
  "language_info": {
   "name": "python",
   "version": "3.11.4"
  }
 },
 "nbformat": 4,
 "nbformat_minor": 2
}
